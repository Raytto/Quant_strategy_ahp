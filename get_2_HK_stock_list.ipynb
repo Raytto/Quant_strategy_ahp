{
 "cells": [
  {
   "cell_type": "code",
   "execution_count": null,
   "id": "4dd81f7f",
   "metadata": {},
   "outputs": [
    {
     "name": "stdout",
     "output_type": "stream",
     "text": [
      "       ts_code      name      fullname                                enname  \\\n",
      "0     00001.HK        长和    长江和记实业有限公司            CK Hutchison Holdings Ltd.   \n",
      "1     00002.HK      中电控股      中电控股有限公司                     CLP Holdings Ltd.   \n",
      "2     00003.HK    香港中华煤气    香港中华煤气有限公司  The Hong Kong and China Gas Co. Ltd.   \n",
      "3     00004.HK     九龙仓集团     九龙仓集团有限公司          The Wharf (Holdings) Limited   \n",
      "4     00005.HK      汇丰控股      汇丰控股有限公司                     HSBC Holdings plc   \n",
      "...        ...       ...           ...                                   ...   \n",
      "2658  83690.HK     美团-WR            美团                               Meituan   \n",
      "2659  86618.HK    京东健康-R    京东健康股份有限公司          JD Health International Inc.   \n",
      "2660  89618.HK  京东集团-SWR    京东集团股份有限公司                          JD.com, Inc.   \n",
      "2661  89888.HK  百度集团-SWR    百度集团股份有限公司                           Baidu, Inc.   \n",
      "2662  89988.HK   阿里巴巴-WR  阿里巴巴集团控股有限公司         Alibaba Group Holding Limited   \n",
      "\n",
      "     cn_spell market list_status list_date delist_date  trade_unit  \\\n",
      "0          CH     主板           L  19721101        None       500.0   \n",
      "1        ZDKG     主板           L  19800102        None       500.0   \n",
      "2      XGZHMQ     主板           L  19600411        None      1000.0   \n",
      "3       JLCJT     主板           L  19210101        None      1000.0   \n",
      "4        HFKG     主板           L  19800102        None       400.0   \n",
      "...       ...    ...         ...       ...         ...         ...   \n",
      "2658     MTWR     主板           L  20230619        None       100.0   \n",
      "2659    JDJKR     主板           L  20230619        None        50.0   \n",
      "2660  JDJTSWR     主板           L  20230619        None        50.0   \n",
      "2661  BDJTSWR     主板           L  20230619        None        50.0   \n",
      "2662   ALBBWR     主板           L  20230619        None       100.0   \n",
      "\n",
      "              isin curr_type  \n",
      "0     KYG217651051       HKD  \n",
      "1     HK0002007356       HKD  \n",
      "2     HK0003000038       HKD  \n",
      "3     HK0004000045       HKD  \n",
      "4     GB0005405286       HKD  \n",
      "...            ...       ...  \n",
      "2658  KYG596691124       HKD  \n",
      "2659  KYG5074A1186       HKD  \n",
      "2660  KYG8208B1196       HKD  \n",
      "2661  KYG070341204       HKD  \n",
      "2662  KYG017191225       HKD  \n",
      "\n",
      "[2663 rows x 12 columns]\n"
     ]
    }
   ],
   "source": [
    "# 导入tushare\n",
    "import tushare as ts\n",
    "import my_settings\n",
    "\n",
    "# 初始化pro接口\n",
    "pro = ts.pro_api(my_settings.tushare_api)\n",
    "\n",
    "# 拉取数据\n",
    "df = pro.hk_basic(\n",
    "    **{\"ts_code\": \"\", \"list_status\": \"\", \"limit\": \"\", \"offset\": \"\"},\n",
    "    fields=[\n",
    "        \"ts_code\",\n",
    "        \"name\",\n",
    "        \"fullname\",\n",
    "        \"enname\",\n",
    "        \"cn_spell\",\n",
    "        \"market\",\n",
    "        \"list_status\",\n",
    "        \"list_date\",\n",
    "        \"delist_date\",\n",
    "        \"trade_unit\",\n",
    "        \"isin\",\n",
    "        \"curr_type\",\n",
    "    ]\n",
    ")\n",
    "print(df)"
   ]
  },
  {
   "cell_type": "code",
   "execution_count": 2,
   "id": "a72251b2",
   "metadata": {},
   "outputs": [],
   "source": [
    "# save to csv\n",
    "df.to_csv(\"data\\HK_stock_list.csv\", index=False, encoding=\"utf-8-sig\")"
   ]
  }
 ],
 "metadata": {
  "kernelspec": {
   "display_name": "py310",
   "language": "python",
   "name": "python3"
  },
  "language_info": {
   "codemirror_mode": {
    "name": "ipython",
    "version": 3
   },
   "file_extension": ".py",
   "mimetype": "text/x-python",
   "name": "python",
   "nbconvert_exporter": "python",
   "pygments_lexer": "ipython3",
   "version": "3.10.15"
  }
 },
 "nbformat": 4,
 "nbformat_minor": 5
}
