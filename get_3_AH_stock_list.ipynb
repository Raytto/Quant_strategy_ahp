{
 "cells": [
  {
   "cell_type": "code",
   "execution_count": 10,
   "id": "1801ca74",
   "metadata": {},
   "outputs": [],
   "source": [
    "# 导入tushare\n",
    "import tushare as ts\n",
    "import pandas as pd"
   ]
  },
  {
   "cell_type": "code",
   "execution_count": 11,
   "id": "24862883",
   "metadata": {},
   "outputs": [
    {
     "data": {
      "text/plain": [
       "Index(['ts_code_A', 'name'], dtype='object')"
      ]
     },
     "execution_count": 11,
     "metadata": {},
     "output_type": "execute_result"
    }
   ],
   "source": [
    "al = pd.read_csv(r\"data\\A_stock_list.csv\", encoding=\"utf-8-sig\")\n",
    "al = al[[\"ts_code\", \"name\"]]\n",
    "al = al.rename(columns={\"ts_code\": \"ts_code_A\"})\n",
    "al.columns"
   ]
  },
  {
   "cell_type": "code",
   "execution_count": 12,
   "id": "b6f0fe3e",
   "metadata": {},
   "outputs": [
    {
     "data": {
      "text/plain": [
       "Index(['ts_code_HK', 'name'], dtype='object')"
      ]
     },
     "execution_count": 12,
     "metadata": {},
     "output_type": "execute_result"
    }
   ],
   "source": [
    "hl = pd.read_csv(r\"data\\HK_stock_list.csv\", encoding=\"utf-8-sig\")\n",
    "hl = hl[[\"ts_code\", \"name\"]]\n",
    "hl = hl.rename(columns={\"ts_code\": \"ts_code_HK\"})\n",
    "hl.columns"
   ]
  },
  {
   "cell_type": "code",
   "execution_count": 13,
   "id": "88a7258e",
   "metadata": {},
   "outputs": [
    {
     "data": {
      "text/html": [
       "<div>\n",
       "<style scoped>\n",
       "    .dataframe tbody tr th:only-of-type {\n",
       "        vertical-align: middle;\n",
       "    }\n",
       "\n",
       "    .dataframe tbody tr th {\n",
       "        vertical-align: top;\n",
       "    }\n",
       "\n",
       "    .dataframe thead th {\n",
       "        text-align: right;\n",
       "    }\n",
       "</style>\n",
       "<table border=\"1\" class=\"dataframe\">\n",
       "  <thead>\n",
       "    <tr style=\"text-align: right;\">\n",
       "      <th></th>\n",
       "      <th>ts_code_A</th>\n",
       "      <th>name</th>\n",
       "      <th>ts_code_HK</th>\n",
       "    </tr>\n",
       "  </thead>\n",
       "  <tbody>\n",
       "    <tr>\n",
       "      <th>0</th>\n",
       "      <td>000039.SZ</td>\n",
       "      <td>中集集团</td>\n",
       "      <td>02039.HK</td>\n",
       "    </tr>\n",
       "    <tr>\n",
       "      <th>1</th>\n",
       "      <td>000063.SZ</td>\n",
       "      <td>中兴通讯</td>\n",
       "      <td>00763.HK</td>\n",
       "    </tr>\n",
       "    <tr>\n",
       "      <th>2</th>\n",
       "      <td>000157.SZ</td>\n",
       "      <td>中联重科</td>\n",
       "      <td>01157.HK</td>\n",
       "    </tr>\n",
       "    <tr>\n",
       "      <th>3</th>\n",
       "      <td>000166.SZ</td>\n",
       "      <td>申万宏源</td>\n",
       "      <td>06806.HK</td>\n",
       "    </tr>\n",
       "    <tr>\n",
       "      <th>4</th>\n",
       "      <td>000333.SZ</td>\n",
       "      <td>美的集团</td>\n",
       "      <td>00300.HK</td>\n",
       "    </tr>\n",
       "    <tr>\n",
       "      <th>...</th>\n",
       "      <td>...</td>\n",
       "      <td>...</td>\n",
       "      <td>...</td>\n",
       "    </tr>\n",
       "    <tr>\n",
       "      <th>103</th>\n",
       "      <td>688187.SH</td>\n",
       "      <td>时代电气</td>\n",
       "      <td>03898.HK</td>\n",
       "    </tr>\n",
       "    <tr>\n",
       "      <th>104</th>\n",
       "      <td>688236.SH</td>\n",
       "      <td>春立医疗</td>\n",
       "      <td>01858.HK</td>\n",
       "    </tr>\n",
       "    <tr>\n",
       "      <th>105</th>\n",
       "      <td>688331.SH</td>\n",
       "      <td>荣昌生物</td>\n",
       "      <td>09995.HK</td>\n",
       "    </tr>\n",
       "    <tr>\n",
       "      <th>106</th>\n",
       "      <td>688505.SH</td>\n",
       "      <td>复旦张江</td>\n",
       "      <td>01349.HK</td>\n",
       "    </tr>\n",
       "    <tr>\n",
       "      <th>107</th>\n",
       "      <td>688981.SH</td>\n",
       "      <td>中芯国际</td>\n",
       "      <td>00981.HK</td>\n",
       "    </tr>\n",
       "  </tbody>\n",
       "</table>\n",
       "<p>108 rows × 3 columns</p>\n",
       "</div>"
      ],
      "text/plain": [
       "     ts_code_A  name ts_code_HK\n",
       "0    000039.SZ  中集集团   02039.HK\n",
       "1    000063.SZ  中兴通讯   00763.HK\n",
       "2    000157.SZ  中联重科   01157.HK\n",
       "3    000166.SZ  申万宏源   06806.HK\n",
       "4    000333.SZ  美的集团   00300.HK\n",
       "..         ...   ...        ...\n",
       "103  688187.SH  时代电气   03898.HK\n",
       "104  688236.SH  春立医疗   01858.HK\n",
       "105  688331.SH  荣昌生物   09995.HK\n",
       "106  688505.SH  复旦张江   01349.HK\n",
       "107  688981.SH  中芯国际   00981.HK\n",
       "\n",
       "[108 rows x 3 columns]"
      ]
     },
     "execution_count": 13,
     "metadata": {},
     "output_type": "execute_result"
    }
   ],
   "source": [
    "ahl = pd.merge(al, hl, on=[\"name\"], how=\"inner\")\n",
    "ahl"
   ]
  },
  {
   "cell_type": "code",
   "execution_count": 14,
   "id": "390c6a6f",
   "metadata": {},
   "outputs": [],
   "source": [
    "# save to csv\n",
    "ahl.to_csv(\"data\\AH_stock_list.csv\", index=False, encoding=\"utf-8-sig\")"
   ]
  }
 ],
 "metadata": {
  "kernelspec": {
   "display_name": "py310",
   "language": "python",
   "name": "python3"
  },
  "language_info": {
   "codemirror_mode": {
    "name": "ipython",
    "version": 3
   },
   "file_extension": ".py",
   "mimetype": "text/x-python",
   "name": "python",
   "nbconvert_exporter": "python",
   "pygments_lexer": "ipython3",
   "version": "3.10.15"
  }
 },
 "nbformat": 4,
 "nbformat_minor": 5
}
