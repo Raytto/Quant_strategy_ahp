{
 "cells": [
  {
   "cell_type": "code",
   "execution_count": 1,
   "id": "839ee7c2",
   "metadata": {},
   "outputs": [
    {
     "name": "stdout",
     "output_type": "stream",
     "text": [
      "          ts_code trade_date  bid_open  bid_close  bid_high  bid_low  \\\n",
      "0     USDHKD.FXCM   20250703   7.84963    7.84810   7.84963  7.84474   \n",
      "1     USDHKD.FXCM   20250702   7.84944    7.84963   7.84976  7.84855   \n",
      "2     USDHKD.FXCM   20250701   7.84972    7.84944   7.84972  7.84619   \n",
      "3     USDHKD.FXCM   20250630   7.84956    7.84972   7.84976  7.84886   \n",
      "4     USDHKD.FXCM   20250629   7.84864    7.84956   7.84977  7.84858   \n",
      "...           ...        ...       ...        ...       ...      ...   \n",
      "4481  USDHKD.FXCM   20100618   7.78219    7.78129   7.78729  7.78079   \n",
      "4482  USDHKD.FXCM   20100617   7.79069    7.78219   7.79161  7.78209   \n",
      "4483  USDHKD.FXCM   20100616   7.78949    7.79069   7.79189  7.78939   \n",
      "4484  USDHKD.FXCM   20100615   7.78939    7.78949   7.79269  7.78919   \n",
      "4485  USDHKD.FXCM   20100614   7.78919    7.78939   7.79395  7.78899   \n",
      "\n",
      "      ask_open  ask_close  ask_high  ask_low  tick_qty  \n",
      "0      7.85047    7.84882   7.85047  7.84668      2930  \n",
      "1      7.85034    7.85047   7.85112  7.85002      6664  \n",
      "2      7.85069    7.85034   7.85168  7.84807     12391  \n",
      "3      7.85021    7.85069   7.85073  7.84997     14718  \n",
      "4      7.85088    7.85021   7.85129  7.84983     11262  \n",
      "...        ...        ...       ...      ...       ...  \n",
      "4481   7.78219    7.78129   7.78729  7.78079      2735  \n",
      "4482   7.79069    7.78219   7.79161  7.78209      2564  \n",
      "4483   7.78949    7.79069   7.79189  7.78939      1204  \n",
      "4484   7.78939    7.78949   7.79269  7.78919      1786  \n",
      "4485   7.78919    7.78939   7.79395  7.78899      1038  \n",
      "\n",
      "[4486 rows x 11 columns]\n"
     ]
    }
   ],
   "source": [
    "# 导入tushare\n",
    "import tushare as ts\n",
    "import pandas as pd\n",
    "import my_settings\n",
    "\n",
    "# 初始化pro接口\n",
    "pro = ts.pro_api(my_settings.tushare_api)\n",
    "\n",
    "# 拉取数据\n",
    "df = pro.fx_daily(\n",
    "    **{\n",
    "        \"ts_code\": \"USDHKD.FXCM\",\n",
    "        \"trade_date\": \"\",\n",
    "        \"start_date\": my_settings.date_start,\n",
    "        \"end_date\": my_settings.date_end,\n",
    "        \"exchange\": \"\",\n",
    "        \"limit\": 3500,\n",
    "        \"offset\": \"\",\n",
    "    },\n",
    "    fields=[\n",
    "        \"ts_code\",\n",
    "        \"trade_date\",\n",
    "        \"bid_open\",\n",
    "        \"bid_close\",\n",
    "        \"bid_high\",\n",
    "        \"bid_low\",\n",
    "        \"ask_open\",\n",
    "        \"ask_close\",\n",
    "        \"ask_high\",\n",
    "        \"ask_low\",\n",
    "        \"tick_qty\",\n",
    "    ]\n",
    ")\n",
    "\n",
    "df2 = pro.fx_daily(\n",
    "    **{\n",
    "        \"ts_code\": \"USDHKD.FXCM\",\n",
    "        \"trade_date\": \"\",\n",
    "        \"start_date\": my_settings.date_start,\n",
    "        \"end_date\": my_settings.date_end,\n",
    "        \"exchange\": \"\",\n",
    "        \"limit\": \"\",\n",
    "        \"offset\": 3500,\n",
    "    },\n",
    "    fields=[\n",
    "        \"ts_code\",\n",
    "        \"trade_date\",\n",
    "        \"bid_open\",\n",
    "        \"bid_close\",\n",
    "        \"bid_high\",\n",
    "        \"bid_low\",\n",
    "        \"ask_open\",\n",
    "        \"ask_close\",\n",
    "        \"ask_high\",\n",
    "        \"ask_low\",\n",
    "        \"tick_qty\",\n",
    "    ]\n",
    ")\n",
    "df = pd.concat([df, df2], ignore_index=True)\n",
    "print(df)"
   ]
  },
  {
   "cell_type": "code",
   "execution_count": 2,
   "id": "e72b47d7",
   "metadata": {},
   "outputs": [],
   "source": [
    "# save to csv\n",
    "df.to_csv(r\"data\\USDHKD_daily.csv\", index=False, encoding=\"utf-8-sig\")"
   ]
  }
 ],
 "metadata": {
  "kernelspec": {
   "display_name": "py310",
   "language": "python",
   "name": "python3"
  },
  "language_info": {
   "codemirror_mode": {
    "name": "ipython",
    "version": 3
   },
   "file_extension": ".py",
   "mimetype": "text/x-python",
   "name": "python",
   "nbconvert_exporter": "python",
   "pygments_lexer": "ipython3",
   "version": "3.10.15"
  }
 },
 "nbformat": 4,
 "nbformat_minor": 5
}
