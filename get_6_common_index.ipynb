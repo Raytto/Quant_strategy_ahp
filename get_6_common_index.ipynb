{
 "cells": [
  {
   "cell_type": "code",
   "execution_count": 4,
   "id": "7532e27f",
   "metadata": {},
   "outputs": [],
   "source": [
    "# 导入tushare\n",
    "import tushare as ts\n",
    "import pandas as pd\n",
    "import my_settings"
   ]
  },
  {
   "cell_type": "markdown",
   "id": "5d5fb5f1",
   "metadata": {},
   "source": [
    "# HS300指数"
   ]
  },
  {
   "cell_type": "code",
   "execution_count": 5,
   "id": "fbc74680",
   "metadata": {},
   "outputs": [
    {
     "name": "stdout",
     "output_type": "stream",
     "text": [
      "        ts_code trade_date      close       open       high        low  \\\n",
      "0     000300.SH   20250704  3982.2034  3967.4637  4013.8478  3958.3762   \n",
      "1     000300.SH   20250703  3968.0676  3949.3998  3971.6160  3945.1380   \n",
      "2     000300.SH   20250702  3943.6849  3943.3232  3952.1378  3929.6956   \n",
      "3     000300.SH   20250701  3942.7620  3935.9078  3946.2451  3924.7219   \n",
      "4     000300.SH   20250630  3936.0791  3920.3149  3940.3611  3911.6044   \n",
      "...         ...        ...        ...        ...        ...        ...   \n",
      "3651  000300.SH   20100623  2758.4950  2768.6950  2788.2190  2734.0470   \n",
      "3652  000300.SH   20100622  2783.7200  2772.8860  2795.3230  2766.4430   \n",
      "3653  000300.SH   20100621  2780.6630  2698.9840  2784.4700  2686.3230   \n",
      "3654  000300.SH   20100618  2696.1660  2739.0320  2755.8420  2686.6140   \n",
      "3655  000300.SH   20100617  2742.7330  2778.5330  2784.9160  2742.6400   \n",
      "\n",
      "      pre_close   change  pct_chg          vol        amount  \n",
      "0     3968.0676  14.1358   0.3562  157197133.0  2.905130e+08  \n",
      "1     3943.6849  24.3827   0.6183  141004006.0  2.696096e+08  \n",
      "2     3942.7620   0.9229   0.0234  147063062.0  2.466378e+08  \n",
      "3     3936.0791   6.6829   0.1698  128959362.0  2.360703e+08  \n",
      "4     3921.7578  14.3213   0.3652  145170236.0  2.888214e+08  \n",
      "...         ...      ...      ...          ...           ...  \n",
      "3651  2783.7200 -25.2250  -0.9062   35600350.0  4.160024e+07  \n",
      "3652  2780.6630   3.0570   0.1099   39096052.0  4.520721e+07  \n",
      "3653  2696.1660  84.4970   3.1340   55261482.0  6.280919e+07  \n",
      "3654  2742.7330 -46.5670  -1.6978   41808344.0  5.025635e+07  \n",
      "3655  2758.8660 -16.1330  -0.5848   32612356.0  4.029323e+07  \n",
      "\n",
      "[3656 rows x 11 columns]\n"
     ]
    }
   ],
   "source": [
    "# 导入tushare\n",
    "import tushare as ts\n",
    "\n",
    "# 初始化pro接口\n",
    "pro = ts.pro_api(my_settings.tushare_api)\n",
    "\n",
    "# 拉取数据\n",
    "df = pro.index_daily(\n",
    "    **{\n",
    "        \"ts_code\": \"000300.SH\",\n",
    "        \"trade_date\": \"\",\n",
    "        \"start_date\": my_settings.date_start,\n",
    "        \"end_date\": my_settings.date_end,\n",
    "        \"limit\": \"\",\n",
    "        \"offset\": \"\",\n",
    "    },\n",
    "    fields=[\n",
    "        \"ts_code\",\n",
    "        \"trade_date\",\n",
    "        \"close\",\n",
    "        \"open\",\n",
    "        \"high\",\n",
    "        \"low\",\n",
    "        \"pre_close\",\n",
    "        \"change\",\n",
    "        \"pct_chg\",\n",
    "        \"vol\",\n",
    "        \"amount\",\n",
    "    ]\n",
    ")\n",
    "df.to_csv(r\"data\\SH300_daily_k.csv\", index=False, encoding=\"utf-8-sig\")\n",
    "print(df)"
   ]
  },
  {
   "cell_type": "markdown",
   "id": "0ddd121d",
   "metadata": {},
   "source": [
    "# 恒生指数"
   ]
  },
  {
   "cell_type": "code",
   "execution_count": 6,
   "id": "a7f28683",
   "metadata": {},
   "outputs": [
    {
     "name": "stdout",
     "output_type": "stream",
     "text": [
      "     ts_code trade_date      open     close      high       low  pre_close  \\\n",
      "0        HSI   20250704  23900.69  23916.06  24068.51  23690.94   24069.94   \n",
      "1        HSI   20250703  24234.28  24069.94  24269.14  23920.00   24221.41   \n",
      "2        HSI   20250702  24304.31  24221.41  24372.70  24122.57   24072.28   \n",
      "3        HSI   20250630  24274.91  24072.28  24274.91  24064.26   24284.15   \n",
      "4        HSI   20250627  24451.19  24284.15  24471.53  24194.85   24325.40   \n",
      "...      ...        ...       ...       ...       ...       ...        ...   \n",
      "3701     HSI   20100621  20571.40  20912.18  20938.33  20571.40   20286.71   \n",
      "3702     HSI   20100618  20199.22  20286.71  20315.42  20138.35   20138.40   \n",
      "3703     HSI   20100617  20201.81  20138.40  20201.81  20078.59   20062.15   \n",
      "3704     HSI   20100615  19998.53  20062.15  20142.10  19970.91   20051.91   \n",
      "3705     HSI   20100614  20102.55  20051.91  20102.55  20024.04   19872.38   \n",
      "\n",
      "      change  pct_chg  swing         vol  \n",
      "0    -153.88    -0.64   1.57  4021196.00  \n",
      "1    -151.47    -0.63   1.44  3594907.00  \n",
      "2     149.13     0.62   1.04  4061334.00  \n",
      "3    -211.87    -0.87   0.87  3775880.00  \n",
      "4     -41.25    -0.17   1.14  4341564.00  \n",
      "...      ...      ...    ...         ...  \n",
      "3701  625.47     3.08   1.81  3171247.00  \n",
      "3702  148.31     0.74   0.88  1413431.00  \n",
      "3703   76.25     0.38   0.61  1034863.00  \n",
      "3704   10.24     0.05   0.85   996054.69  \n",
      "3705  179.53     0.90   0.40   954758.25  \n",
      "\n",
      "[3706 rows x 11 columns]\n"
     ]
    }
   ],
   "source": [
    "# 拉取数据\n",
    "df = pro.index_global(\n",
    "    **{\n",
    "        \"ts_code\": \"HSI\",\n",
    "        \"trade_date\": \"\",\n",
    "        \"start_date\": my_settings.date_start,\n",
    "        \"end_date\": my_settings.date_end,\n",
    "        \"limit\": \"\",\n",
    "        \"offset\": \"\",\n",
    "    },\n",
    "    fields=[\n",
    "        \"ts_code\",\n",
    "        \"trade_date\",\n",
    "        \"open\",\n",
    "        \"close\",\n",
    "        \"high\",\n",
    "        \"low\",\n",
    "        \"pre_close\",\n",
    "        \"change\",\n",
    "        \"pct_chg\",\n",
    "        \"swing\",\n",
    "        \"vol\",\n",
    "    ]\n",
    ")\n",
    "df.to_csv(r\"data\\HSI_daily_k.csv\", index=False, encoding=\"utf-8-sig\")\n",
    "print(df)"
   ]
  },
  {
   "cell_type": "markdown",
   "id": "5d1c2501",
   "metadata": {},
   "source": [
    "# 纳指"
   ]
  },
  {
   "cell_type": "code",
   "execution_count": 7,
   "id": "cbd26232",
   "metadata": {},
   "outputs": [
    {
     "name": "stdout",
     "output_type": "stream",
     "text": [
      "     ts_code trade_date     open     close      high       low  pre_close  \\\n",
      "0       IXIC   20250703      NaN  20601.10  20624.51  20480.22   20393.13   \n",
      "1       IXIC   20250702      NaN  20393.13  20397.22  20181.74   20202.89   \n",
      "2       IXIC   20250701      NaN  20202.89  20339.05  20105.42   20369.73   \n",
      "3       IXIC   20250630      NaN  20369.73  20418.31  20266.36   20273.46   \n",
      "4       IXIC   20250627      NaN  20273.46  20311.51  20095.05   20167.91   \n",
      "...      ...        ...      ...       ...       ...       ...        ...   \n",
      "3783    IXIC   20100618  2308.94   2309.80   2321.99   2301.48    2307.16   \n",
      "3784    IXIC   20100617  2316.59   2307.16   2318.27   2288.59    2305.93   \n",
      "3785    IXIC   20100616  2293.56   2305.93   2317.75   2290.26    2305.88   \n",
      "3786    IXIC   20100615  2256.48   2305.88   2307.98   2256.44    2243.96   \n",
      "3787    IXIC   20100614  2263.66   2243.96   2278.96   2242.00    2243.60   \n",
      "\n",
      "      change  pct_chg  swing  vol  \n",
      "0     207.97     1.02   0.71  NaN  \n",
      "1     190.24     0.94   1.07  NaN  \n",
      "2    -166.84    -0.82   1.15  NaN  \n",
      "3      96.27     0.47   0.75  NaN  \n",
      "4     105.55     0.52   1.07  NaN  \n",
      "...      ...      ...    ...  ...  \n",
      "3783    2.64     0.11   0.89  NaN  \n",
      "3784    1.23     0.05   1.29  NaN  \n",
      "3785    0.05     0.00   1.19  NaN  \n",
      "3786   61.92     2.76   2.30  NaN  \n",
      "3787    0.36     0.02   1.65  NaN  \n",
      "\n",
      "[3788 rows x 11 columns]\n"
     ]
    }
   ],
   "source": [
    "# 拉取数据\n",
    "df = pro.index_global(\n",
    "    **{\n",
    "        \"ts_code\": \"IXIC\",\n",
    "        \"trade_date\": \"\",\n",
    "        \"start_date\": my_settings.date_start,\n",
    "        \"end_date\": my_settings.date_end,\n",
    "        \"limit\": \"\",\n",
    "        \"offset\": \"\",\n",
    "    },\n",
    "    fields=[\n",
    "        \"ts_code\",\n",
    "        \"trade_date\",\n",
    "        \"open\",\n",
    "        \"close\",\n",
    "        \"high\",\n",
    "        \"low\",\n",
    "        \"pre_close\",\n",
    "        \"change\",\n",
    "        \"pct_chg\",\n",
    "        \"swing\",\n",
    "        \"vol\",\n",
    "    ]\n",
    ")\n",
    "df.to_csv(r\"data\\IXIC_daily_k.csv\", index=False, encoding=\"utf-8-sig\")\n",
    "print(df)"
   ]
  }
 ],
 "metadata": {
  "kernelspec": {
   "display_name": "py310",
   "language": "python",
   "name": "python3"
  },
  "language_info": {
   "codemirror_mode": {
    "name": "ipython",
    "version": 3
   },
   "file_extension": ".py",
   "mimetype": "text/x-python",
   "name": "python",
   "nbconvert_exporter": "python",
   "pygments_lexer": "ipython3",
   "version": "3.10.15"
  }
 },
 "nbformat": 4,
 "nbformat_minor": 5
}
