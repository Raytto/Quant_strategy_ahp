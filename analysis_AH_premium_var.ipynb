{
 "cells": [
  {
   "cell_type": "code",
   "execution_count": 1,
   "id": "5f96da46",
   "metadata": {},
   "outputs": [],
   "source": [
    "import pandas as pd"
   ]
  },
  {
   "cell_type": "code",
   "execution_count": 2,
   "id": "d4c16987",
   "metadata": {},
   "outputs": [
    {
     "data": {
      "text/plain": [
       "Index(['ts_code_A', 'ts_code_HK', 'trade_date', 'name', 'p_a_adj', 'p_hk_adj',\n",
       "       'p_hk', 'p_a', 'adj_factor_HK', 'adj_factor_A', 'adj_base_HK',\n",
       "       'adj_base_A', 'hk2cn', 'AH_premium_adj', 'AH_premium'],\n",
       "      dtype='object')"
      ]
     },
     "execution_count": 2,
     "metadata": {},
     "output_type": "execute_result"
    }
   ],
   "source": [
    "ah_k = pd.read_csv(r\"data\\AH_premium_analysis.csv\", encoding=\"utf-8-sig\")\n",
    "ah_k.columns"
   ]
  },
  {
   "cell_type": "code",
   "execution_count": 3,
   "id": "8795b035",
   "metadata": {},
   "outputs": [
    {
     "data": {
      "text/html": [
       "<div>\n",
       "<style scoped>\n",
       "    .dataframe tbody tr th:only-of-type {\n",
       "        vertical-align: middle;\n",
       "    }\n",
       "\n",
       "    .dataframe tbody tr th {\n",
       "        vertical-align: top;\n",
       "    }\n",
       "\n",
       "    .dataframe thead th {\n",
       "        text-align: right;\n",
       "    }\n",
       "</style>\n",
       "<table border=\"1\" class=\"dataframe\">\n",
       "  <thead>\n",
       "    <tr style=\"text-align: right;\">\n",
       "      <th></th>\n",
       "      <th>ts_code_A</th>\n",
       "      <th>var_monthly_premium_change</th>\n",
       "      <th>name</th>\n",
       "    </tr>\n",
       "  </thead>\n",
       "  <tbody>\n",
       "    <tr>\n",
       "      <th>62</th>\n",
       "      <td>601328.SH</td>\n",
       "      <td>1617.804180</td>\n",
       "      <td>交通银行</td>\n",
       "    </tr>\n",
       "    <tr>\n",
       "      <th>50</th>\n",
       "      <td>600988.SH</td>\n",
       "      <td>51.186062</td>\n",
       "      <td>赤峰黄金</td>\n",
       "    </tr>\n",
       "    <tr>\n",
       "      <th>26</th>\n",
       "      <td>002948.SZ</td>\n",
       "      <td>36.024135</td>\n",
       "      <td>青岛银行</td>\n",
       "    </tr>\n",
       "    <tr>\n",
       "      <th>1</th>\n",
       "      <td>000063.SZ</td>\n",
       "      <td>27.066210</td>\n",
       "      <td>中兴通讯</td>\n",
       "    </tr>\n",
       "    <tr>\n",
       "      <th>65</th>\n",
       "      <td>601398.SH</td>\n",
       "      <td>24.294193</td>\n",
       "      <td>工商银行</td>\n",
       "    </tr>\n",
       "    <tr>\n",
       "      <th>70</th>\n",
       "      <td>601607.SH</td>\n",
       "      <td>21.991603</td>\n",
       "      <td>上海医药</td>\n",
       "    </tr>\n",
       "    <tr>\n",
       "      <th>10</th>\n",
       "      <td>000951.SZ</td>\n",
       "      <td>21.746591</td>\n",
       "      <td>中国重汽</td>\n",
       "    </tr>\n",
       "    <tr>\n",
       "      <th>58</th>\n",
       "      <td>601288.SH</td>\n",
       "      <td>19.629926</td>\n",
       "      <td>农业银行</td>\n",
       "    </tr>\n",
       "    <tr>\n",
       "      <th>34</th>\n",
       "      <td>600036.SH</td>\n",
       "      <td>18.874177</td>\n",
       "      <td>招商银行</td>\n",
       "    </tr>\n",
       "    <tr>\n",
       "      <th>33</th>\n",
       "      <td>600030.SH</td>\n",
       "      <td>14.021963</td>\n",
       "      <td>中信证券</td>\n",
       "    </tr>\n",
       "  </tbody>\n",
       "</table>\n",
       "</div>"
      ],
      "text/plain": [
       "    ts_code_A  var_monthly_premium_change  name\n",
       "62  601328.SH                 1617.804180  交通银行\n",
       "50  600988.SH                   51.186062  赤峰黄金\n",
       "26  002948.SZ                   36.024135  青岛银行\n",
       "1   000063.SZ                   27.066210  中兴通讯\n",
       "65  601398.SH                   24.294193  工商银行\n",
       "70  601607.SH                   21.991603  上海医药\n",
       "10  000951.SZ                   21.746591  中国重汽\n",
       "58  601288.SH                   19.629926  农业银行\n",
       "34  600036.SH                   18.874177  招商银行\n",
       "33  600030.SH                   14.021963  中信证券"
      ]
     },
     "execution_count": 3,
     "metadata": {},
     "output_type": "execute_result"
    }
   ],
   "source": [
    "# -------- 0) 前置：确保日期列已是 datetime ----------\n",
    "ah_k[\"trade_date\"] = pd.to_datetime(ah_k[\"trade_date\"].astype(str))\n",
    "\n",
    "# -------- 1) 生成按月快照（取每月最后一个交易日的溢价率） ----------\n",
    "ah_k_sorted = ah_k.sort_values(\"trade_date\")  # 先按时间升序\n",
    "prem_col = \"AH_premium_adj\"  # 如果换列名记得同步\n",
    "\n",
    "# level 0: ts_code_A, level 1: month\n",
    "month_series = (\n",
    "    ah_k_sorted.assign(month=lambda df: df[\"trade_date\"].dt.to_period(\"M\"))\n",
    "    .groupby([\"ts_code_A\", \"month\"])[prem_col]\n",
    "    .last()  # 当月最后一个交易日\n",
    ")\n",
    "\n",
    "# -------- 2) 计算溢价率变化倍数：本月 / 上月 ----------\n",
    "month_ratio = month_series.groupby(level=0).apply(lambda s: s / s.shift(1))\n",
    "\n",
    "# -------- 3) 统计每只股票的方差（skipna=True 默认忽略首月 NaN） ----------\n",
    "var_df = month_ratio.groupby(level=0).var().reset_index()\n",
    "var_df.columns = [\"ts_code_A\", \"var_monthly_premium_change\"]  # ← 直接覆写列名\n",
    "\n",
    "# -------- 4) 辅助列：加入中文股票简称，方便读表 ----------\n",
    "name_map = ah_k_sorted[[\"ts_code_A\", \"name\"]].drop_duplicates()\n",
    "var_df = var_df.merge(name_map, on=\"ts_code_A\", how=\"left\")\n",
    "\n",
    "# -------- 5) 按方差从高到低排序，看看哪些 AH 价差最“躁动” ----------\n",
    "var_df = var_df.sort_values(\"var_monthly_premium_change\", ascending=False)\n",
    "\n",
    "var_df.sort_values(by=\"var_monthly_premium_change\")\n",
    "var_df.to_csv(\n",
    "    \"data/ah_monthly_premium_change_var.csv\", index=False, encoding=\"utf-8-sig\"\n",
    ")\n",
    "\n",
    "var_df.head(10)  # 想看前 10 条就 print / display 一下"
   ]
  }
 ],
 "metadata": {
  "kernelspec": {
   "display_name": "py310",
   "language": "python",
   "name": "python3"
  },
  "language_info": {
   "codemirror_mode": {
    "name": "ipython",
    "version": 3
   },
   "file_extension": ".py",
   "mimetype": "text/x-python",
   "name": "python",
   "nbconvert_exporter": "python",
   "pygments_lexer": "ipython3",
   "version": "3.10.15"
  }
 },
 "nbformat": 4,
 "nbformat_minor": 5
}
