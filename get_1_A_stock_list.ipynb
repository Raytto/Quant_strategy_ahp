{
 "cells": [
  {
   "cell_type": "code",
   "execution_count": 5,
   "id": "129571c1",
   "metadata": {},
   "outputs": [
    {
     "name": "stdout",
     "output_type": "stream",
     "text": [
      "        ts_code  symbol     name area industry cnspell market list_date  \\\n",
      "0     000001.SZ  000001     平安银行   深圳       银行    payh     主板  19910403   \n",
      "1     000002.SZ  000002      万科A   深圳     全国地产     wka     主板  19910129   \n",
      "2     000004.SZ  000004    *ST国华   深圳     软件服务    stgh     主板  19910114   \n",
      "3     000006.SZ  000006     深振业A   深圳     区域地产    szya     主板  19920427   \n",
      "4     000007.SZ  000007      全新好   深圳     其他商业     qxh     主板  19920413   \n",
      "...         ...     ...      ...  ...      ...     ...    ...       ...   \n",
      "5413  920489.BJ  920489     佳先股份   安徽     化工原料    jxgf    北交所  20200727   \n",
      "5414  920682.BJ  920682     球冠电缆   浙江     电气设备    qgdl    北交所  20200727   \n",
      "5415  920799.BJ  920799     艾融软件   上海     软件服务    arrj    北交所  20200727   \n",
      "5416  920819.BJ  920819     颖泰生物   北京     农药化肥    ytsw    北交所  20200727   \n",
      "5417  689009.SH  689009  九号公司-WD   北京      摩托车    jhgs    科创板  20201029   \n",
      "\n",
      "                act_name act_ent_type  \n",
      "0                 无实际控制人            无  \n",
      "1     深圳市人民政府国有资产监督管理委员会         地方国企  \n",
      "2                    李映彤         民营企业  \n",
      "3     深圳市人民政府国有资产监督管理委员会         地方国企  \n",
      "4                    王玩虹         民营企业  \n",
      "...                  ...          ...  \n",
      "5413                None         None  \n",
      "5414                None         None  \n",
      "5415                None         None  \n",
      "5416                None         None  \n",
      "5417                None         None  \n",
      "\n",
      "[5418 rows x 10 columns]\n"
     ]
    }
   ],
   "source": [
    "# 导入tushare\n",
    "import tushare as ts\n",
    "import pandas as pd\n",
    "import my_settings\n",
    "\n",
    "# 初始化pro接口\n",
    "pro = ts.pro_api(my_settings.tushare_api)\n",
    "\n",
    "# 拉取数据\n",
    "df = pro.stock_basic(\n",
    "    **{\n",
    "        \"ts_code\": \"\",\n",
    "        \"name\": \"\",\n",
    "        \"exchange\": \"\",\n",
    "        \"market\": \"\",\n",
    "        \"is_hs\": \"\",\n",
    "        \"list_status\": \"\",\n",
    "        \"limit\": \"\",\n",
    "        \"offset\": \"\",\n",
    "    },\n",
    "    fields=[\n",
    "        \"ts_code\",\n",
    "        \"symbol\",\n",
    "        \"name\",\n",
    "        \"area\",\n",
    "        \"industry\",\n",
    "        \"cnspell\",\n",
    "        \"market\",\n",
    "        \"list_date\",\n",
    "        \"act_name\",\n",
    "        \"act_ent_type\",\n",
    "    ]\n",
    ")\n",
    "print(df)"
   ]
  },
  {
   "cell_type": "code",
   "execution_count": 7,
   "id": "e72b47d7",
   "metadata": {},
   "outputs": [
    {
     "name": "stdout",
     "output_type": "stream",
     "text": [
      "        ts_code  symbol  name area industry cnspell market list_date act_name  \\\n",
      "3775  601628.SH  601628  中国人寿   北京       保险    zgrs     主板  20070109     None   \n",
      "\n",
      "     act_ent_type  \n",
      "3775         None  \n"
     ]
    }
   ],
   "source": [
    "result = df[df[\"name\"] == \"中国人寿\"]\n",
    "print(result)"
   ]
  },
  {
   "cell_type": "code",
   "execution_count": 8,
   "id": "86504d87",
   "metadata": {},
   "outputs": [],
   "source": [
    "# save to csv\n",
    "df.to_csv(\"data\\A_stock_list.csv\", index=False, encoding=\"utf-8-sig\")"
   ]
  }
 ],
 "metadata": {
  "kernelspec": {
   "display_name": "py310",
   "language": "python",
   "name": "python3"
  },
  "language_info": {
   "codemirror_mode": {
    "name": "ipython",
    "version": 3
   },
   "file_extension": ".py",
   "mimetype": "text/x-python",
   "name": "python",
   "nbconvert_exporter": "python",
   "pygments_lexer": "ipython3",
   "version": "3.10.15"
  }
 },
 "nbformat": 4,
 "nbformat_minor": 5
}
