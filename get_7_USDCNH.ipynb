{
 "cells": [
  {
   "cell_type": "code",
   "execution_count": 6,
   "id": "839ee7c2",
   "metadata": {},
   "outputs": [
    {
     "name": "stdout",
     "output_type": "stream",
     "text": [
      "          ts_code trade_date  bid_open  bid_close  bid_high  bid_low  \\\n",
      "0     USDCNH.FXCM   20250703   7.16888    7.16844   7.16968  7.16531   \n",
      "1     USDCNH.FXCM   20250702   7.16073    7.16888   7.17393  7.15630   \n",
      "2     USDCNH.FXCM   20250701   7.15974    7.16073   7.16962  7.15877   \n",
      "3     USDCNH.FXCM   20250630   7.15662    7.15974   7.16459  7.14981   \n",
      "4     USDCNH.FXCM   20250629   7.16685    7.15662   7.17043  7.15531   \n",
      "...           ...        ...       ...        ...       ...      ...   \n",
      "4046  USDCNH.FXCM   20120223   6.29600    6.29660   6.30110  6.29450   \n",
      "4047  USDCNH.FXCM   20120222   6.29640    6.29600   6.30190  6.29320   \n",
      "4048  USDCNH.FXCM   20120221   6.29180    6.29640   6.30090  6.28980   \n",
      "4049  USDCNH.FXCM   20120220   6.29990    6.29180   6.29990  6.28410   \n",
      "4050  USDCNH.FXCM   20120218   6.29990    6.29990   6.29990  6.29990   \n",
      "\n",
      "      ask_open  ask_close  ask_high  ask_low  tick_qty  \n",
      "0      7.17130    7.16923   7.17231  7.16810      8833  \n",
      "1      7.16192    7.17130   7.17451  7.15714    111904  \n",
      "2      7.16190    7.16192   7.17028  7.16038    114272  \n",
      "3      7.15972    7.16190   7.16527  7.15045    256322  \n",
      "4      7.17113    7.15972   7.17446  7.15696    121847  \n",
      "...        ...        ...       ...      ...       ...  \n",
      "4046   6.30090    6.29970   6.30310  6.29660      9202  \n",
      "4047   6.30130    6.30090   6.30360  6.29630      9891  \n",
      "4048   6.29690    6.30130   6.30410  6.29500     11092  \n",
      "4049   6.30210    6.29690   6.30210  6.29080      6605  \n",
      "4050   6.30210    6.30210   6.30210  6.30210         0  \n",
      "\n",
      "[4051 rows x 11 columns]\n"
     ]
    }
   ],
   "source": [
    "# 导入tushare\n",
    "import tushare as ts\n",
    "import pandas as pd\n",
    "import my_settings\n",
    "\n",
    "# 初始化pro接口\n",
    "pro = ts.pro_api(my_settings.tushare_api)\n",
    "\n",
    "# 拉取数据\n",
    "df = pro.fx_daily(\n",
    "    **{\n",
    "        \"ts_code\": \"USDCNH.FXCM\",\n",
    "        \"trade_date\": \"\",\n",
    "        \"start_date\": my_settings.date_start,\n",
    "        \"end_date\": my_settings.date_end,\n",
    "        \"exchange\": \"\",\n",
    "        \"limit\": 3500,\n",
    "        \"offset\": \"\",\n",
    "    },\n",
    "    fields=[\n",
    "        \"ts_code\",\n",
    "        \"trade_date\",\n",
    "        \"bid_open\",\n",
    "        \"bid_close\",\n",
    "        \"bid_high\",\n",
    "        \"bid_low\",\n",
    "        \"ask_open\",\n",
    "        \"ask_close\",\n",
    "        \"ask_high\",\n",
    "        \"ask_low\",\n",
    "        \"tick_qty\",\n",
    "    ]\n",
    ")\n",
    "\n",
    "df2 = pro.fx_daily(\n",
    "    **{\n",
    "        \"ts_code\": \"USDCNH.FXCM\",\n",
    "        \"trade_date\": \"\",\n",
    "        \"start_date\": my_settings.date_start,\n",
    "        \"end_date\": my_settings.date_end,\n",
    "        \"exchange\": \"\",\n",
    "        \"limit\": \"\",\n",
    "        \"offset\": 3500,\n",
    "    },\n",
    "    fields=[\n",
    "        \"ts_code\",\n",
    "        \"trade_date\",\n",
    "        \"bid_open\",\n",
    "        \"bid_close\",\n",
    "        \"bid_high\",\n",
    "        \"bid_low\",\n",
    "        \"ask_open\",\n",
    "        \"ask_close\",\n",
    "        \"ask_high\",\n",
    "        \"ask_low\",\n",
    "        \"tick_qty\",\n",
    "    ]\n",
    ")\n",
    "df = pd.concat([df, df2], ignore_index=True)\n",
    "print(df)"
   ]
  },
  {
   "cell_type": "code",
   "execution_count": 7,
   "id": "e72b47d7",
   "metadata": {},
   "outputs": [],
   "source": [
    "# save to csv\n",
    "df.to_csv(r\"data\\USDCNH_daily.csv\", index=False, encoding=\"utf-8-sig\")"
   ]
  }
 ],
 "metadata": {
  "kernelspec": {
   "display_name": "py310",
   "language": "python",
   "name": "python3"
  },
  "language_info": {
   "codemirror_mode": {
    "name": "ipython",
    "version": 3
   },
   "file_extension": ".py",
   "mimetype": "text/x-python",
   "name": "python",
   "nbconvert_exporter": "python",
   "pygments_lexer": "ipython3",
   "version": "3.10.15"
  }
 },
 "nbformat": 4,
 "nbformat_minor": 5
}
