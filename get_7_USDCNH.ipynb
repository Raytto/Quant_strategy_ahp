{
 "cells": [
  {
   "cell_type": "code",
   "execution_count": null,
   "id": "839ee7c2",
   "metadata": {},
   "outputs": [
    {
     "name": "stdout",
     "output_type": "stream",
     "text": [
      "          ts_code trade_date  bid_open  bid_close  bid_high  bid_low  \\\n",
      "0     USDHKD.FXCM   20250703   7.84963    7.84810   7.84963  7.84474   \n",
      "1     USDHKD.FXCM   20250702   7.84944    7.84963   7.84976  7.84855   \n",
      "2     USDHKD.FXCM   20250701   7.84972    7.84944   7.84972  7.84619   \n",
      "3     USDHKD.FXCM   20250630   7.84956    7.84972   7.84976  7.84886   \n",
      "4     USDHKD.FXCM   20250629   7.84864    7.84956   7.84977  7.84858   \n",
      "...           ...        ...       ...        ...       ...      ...   \n",
      "3995  USDHKD.FXCM   20120427   7.75940    7.75895   7.75965  7.75830   \n",
      "3996  USDHKD.FXCM   20120426   7.75985    7.75940   7.76003  7.75795   \n",
      "3997  USDHKD.FXCM   20120425   7.75890    7.75985   7.76042  7.75830   \n",
      "3998  USDHKD.FXCM   20120424   7.76110    7.75890   7.76170  7.75880   \n",
      "3999  USDHKD.FXCM   20120423   7.75950    7.76110   7.76148  7.75935   \n",
      "\n",
      "      ask_open  ask_close  ask_high  ask_low  tick_qty  \n",
      "0      7.85047    7.84882   7.85047  7.84668      2930  \n",
      "1      7.85034    7.85047   7.85112  7.85002      6664  \n",
      "2      7.85069    7.85034   7.85168  7.84807     12391  \n",
      "3      7.85021    7.85069   7.85073  7.84997     14718  \n",
      "4      7.85088    7.85021   7.85129  7.84983     11262  \n",
      "...        ...        ...       ...      ...       ...  \n",
      "3995   7.76018    7.76015   7.76055  7.75896      3853  \n",
      "3996   7.76067    7.76018   7.76090  7.75842      4011  \n",
      "3997   7.76010    7.76067   7.76120  7.75890      3331  \n",
      "3998   7.76191    7.76010   7.76290  7.75957      3414  \n",
      "3999   7.76131    7.76191   7.76255  7.76050      3574  \n",
      "\n",
      "[4000 rows x 11 columns]\n"
     ]
    }
   ],
   "source": [
    "# 导入tushare\n",
    "import tushare as ts\n",
    "\n",
    "# 初始化pro接口\n",
    "pro = ts.pro_api(\"f2aef9902d3d6a7495eced3d744fa2731a4b858002c79f1d9b4288ba\")\n",
    "\n",
    "# 拉取数据\n",
    "df = pro.fx_daily(\n",
    "    **{\n",
    "        \"ts_code\": \"USDHKD.FXCM\",\n",
    "        \"trade_date\": \"\",\n",
    "        \"start_date\": 20100614,\n",
    "        \"end_date\": 20180705,\n",
    "        \"exchange\": \"\",\n",
    "        \"limit\": \"\",\n",
    "        \"offset\": \"\",\n",
    "    },\n",
    "    fields=[\n",
    "        \"ts_code\",\n",
    "        \"trade_date\",\n",
    "        \"bid_open\",\n",
    "        \"bid_close\",\n",
    "        \"bid_high\",\n",
    "        \"bid_low\",\n",
    "        \"ask_open\",\n",
    "        \"ask_close\",\n",
    "        \"ask_high\",\n",
    "        \"ask_low\",\n",
    "        \"tick_qty\",\n",
    "    ]\n",
    ")\n",
    "\n",
    "df2 = pro.fx_daily(\n",
    "    **{\n",
    "        \"ts_code\": \"USDHKD.FXCM\",\n",
    "        \"trade_date\": \"\",\n",
    "        \"start_date\": 20180706,\n",
    "        \"end_date\": 20250705,\n",
    "        \"exchange\": \"\",\n",
    "        \"limit\": \"\",\n",
    "        \"offset\": \"\",\n",
    "    },\n",
    "    fields=[\n",
    "        \"ts_code\",\n",
    "        \"trade_date\",\n",
    "        \"bid_open\",\n",
    "        \"bid_close\",\n",
    "        \"bid_high\",\n",
    "        \"bid_low\",\n",
    "        \"ask_open\",\n",
    "        \"ask_close\",\n",
    "        \"ask_high\",\n",
    "        \"ask_low\",\n",
    "        \"tick_qty\",\n",
    "    ]\n",
    ")\n",
    "print(df)"
   ]
  },
  {
   "cell_type": "code",
   "execution_count": null,
   "id": "e72b47d7",
   "metadata": {},
   "outputs": [
    {
     "name": "stdout",
     "output_type": "stream",
     "text": [
      "        ts_code  symbol  name area industry cnspell market list_date act_name  \\\n",
      "3775  601628.SH  601628  中国人寿   北京       保险    zgrs     主板  20070109     None   \n",
      "\n",
      "     act_ent_type  \n",
      "3775         None  \n"
     ]
    }
   ],
   "source": [
    "# save to csv\n",
    "df.to_csv('data\\USDHKD_daily.csv', index=False, encoding='utf-8-sig')"
   ]
  },
  {
   "cell_type": "code",
   "execution_count": null,
   "id": "86504d87",
   "metadata": {},
   "outputs": [],
   "source": []
  }
 ],
 "metadata": {
  "kernelspec": {
   "display_name": "py310",
   "language": "python",
   "name": "python3"
  },
  "language_info": {
   "codemirror_mode": {
    "name": "ipython",
    "version": 3
   },
   "file_extension": ".py",
   "mimetype": "text/x-python",
   "name": "python",
   "nbconvert_exporter": "python",
   "pygments_lexer": "ipython3",
   "version": "3.10.15"
  }
 },
 "nbformat": 4,
 "nbformat_minor": 5
}
